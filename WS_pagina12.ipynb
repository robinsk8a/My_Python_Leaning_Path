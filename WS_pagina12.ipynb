{
 "cells": [
  {
   "cell_type": "markdown",
   "metadata": {},
   "source": [
    "El objetivo de este projecto es crear un archivo que me liste cada una de las noticias por seccion con una pequeña descripcion de la pagina web pagina 12"
   ]
  },
  {
   "cell_type": "markdown",
   "metadata": {},
   "source": [
    "Para cumplir con dicho objetivo generare una estructura que me muestre los contenidos de una forma ordenada.\n",
    "\n",
    "fecha de la busqueda: -- -- --\n",
    "/n\n",
    "Pagina web: pagina12.com\n",
    "/n/n\n",
    "subsecciones de noticias:\n",
    "/n\n",
    "Indice:\n",
    "subsecname : link\n",
    "subsecname : link\n",
    "subsecname : link\n",
    "[...]\n",
    "/n/n/n\n",
    "\n",
    "Noticias:\n",
    "Subsecname:\n",
    "  noticia____:\n",
    "    descripcion/n\n",
    "    autor: name\n",
    "    Fecha: -- --\n",
    "    Fuente: link\n",
    "/n\n",
    "  noticia____:\n",
    "    descripcion/n\n",
    "    Fuente: link\n",
    "/n\n",
    "[...]\n",
    "/n/n/n\n",
    "   [Fin de las noticias]"
   ]
  },
  {
   "cell_type": "code",
   "execution_count": 1,
   "metadata": {},
   "outputs": [],
   "source": [
    "import requests\n",
    "from bs4 import BeautifulSoup\n",
    "import datetime"
   ]
  },
  {
   "cell_type": "code",
   "execution_count": 2,
   "metadata": {},
   "outputs": [],
   "source": [
    "#Variables de entrada\n",
    "t= datetime.datetime.now()\n",
    "filename= \"./Docs/ResumenP12--\"+t.strftime(\"%d-%m-%Y\")+\".txt\"\n",
    "url = \"https://www.pagina12.com.ar/\""
   ]
  },
  {
   "cell_type": "code",
   "execution_count": 3,
   "metadata": {},
   "outputs": [],
   "source": [
    "#Definiendo una funcion de error de entrada al servidor por si no logra entrar correctamente a la pagina web\n",
    "def statcode():\n",
    "    try:\n",
    "        p12= requests.get(url)\n",
    "        print(p12.status_code)\n",
    "        print(\"Pagina funcionando con normalidad\")\n",
    "        return(p12)\n",
    "        \n",
    "        \n",
    "        \n",
    "    except:\n",
    "        print(\"El statuscode es diferente de 200\")\n",
    "        print(p12.status_code)\n",
    "    \n",
    "    \n",
    "#statcode()"
   ]
  },
  {
   "cell_type": "markdown",
   "metadata": {},
   "source": [
    "La siguiente función crea un documento .txt vacío en la carpeta /Docs ubicada en el proyecto actual con el nombre de \"ResumenP12--[fecha-actual].txt\" donde se irá añadiendo posteriormente toda la informacion de noticias con sus respectivas citas directamente de la pagina web pagina12.com.ar"
   ]
  },
  {
   "cell_type": "code",
   "execution_count": 4,
   "metadata": {},
   "outputs": [],
   "source": [
    "def create_doc():\n",
    "    with open(filename, \"w\", encoding= 'utf-8') as resume:\n",
    "        resume.write(\"\\nFecha de la busqueda: \"+ str(t) +\"\\n\\n\"+\n",
    "                     \"Página web: \"+url+\"\\n\\n\\n\")\n",
    "    print(\"Documento creado\")\n",
    "#create_doc()"
   ]
  },
  {
   "cell_type": "markdown",
   "metadata": {},
   "source": [
    "La siguiente función me va a crear un diccionario del cual sacaremos el indice para el documento principal con el formato \"## subsección : link/n\""
   ]
  },
  {
   "cell_type": "code",
   "execution_count": 5,
   "metadata": {},
   "outputs": [
    {
     "name": "stdout",
     "output_type": "stream",
     "text": [
      "200\n",
      "Pagina funcionando con normalidad\n"
     ]
    }
   ],
   "source": [
    "s = BeautifulSoup(statcode().text, 'lxml')\n",
    "sections = s.find('ul', attrs= {\"class\": \"horizontal-list main-sections hide-on-dropdown\"}).find_all(\"li\")\n",
    "subsections = {section.a.get_text() : section.a.get('href') for (section) in sections}\n",
    "def getindex():\n",
    "    \n",
    "    with open(filename, \"a\", encoding= \"utf-8\") as index:\n",
    "            index.write(\"Categorias:\\n\\n\")\n",
    "    \n",
    "    \n",
    "    for val in subsections:\n",
    "        with open(filename, \"a\", encoding= \"utf-8\") as index:\n",
    "            index.write(\"    \"+val+ \" -----> \" +subsections[val]+\"\\n\")\n",
    "    \n",
    "    with open(filename, \"a\", encoding= \"utf-8\") as index:\n",
    "            index.write(\"\\n\\n\\n\")\n",
    "\n",
    "    print(\"Indice de categorias creado\")\n",
    "    \n",
    "#getindex()\n"
   ]
  },
  {
   "cell_type": "code",
   "execution_count": 6,
   "metadata": {},
   "outputs": [],
   "source": [
    "def getnews():\n",
    "\n",
    "    with open(filename, \"a\", encoding= \"utf-8\") as catname:\n",
    "            catname.write(\"Noticias:\\n\\n\\n\")\n",
    "    for key in subsections:\n",
    "        with open(filename, \"a\", encoding= \"utf-8\") as catname:\n",
    "            catname.write(\"_\" +key+\"_\\n\\n\")\n",
    "            link= subsections[key]\n",
    "\n",
    "        Categoryt = requests.get(link)\n",
    "        cat_s = BeautifulSoup(Categoryt.text, 'lxml')\n",
    "        artics= cat_s.find_all(\"div\", attrs= {\"class\": \"article-item__content\"})\n",
    "        date_n_author= cat_s.find_all(\"div\", attrs= {\"class\": \"article-item__footer\"})\n",
    "\n",
    "        articles= dict(zip(artics, date_n_author))\n",
    "\n",
    "        for article in articles:\n",
    "\n",
    "            title = article.a.get_text()\n",
    "            def quote_error():\n",
    "                try:\n",
    "                    quote= article.p.get_text()\n",
    "                    return(quote)\n",
    "                except:\n",
    "                    return(None)\n",
    "\n",
    "            def author_error():\n",
    "                try:\n",
    "                    art_author= articles[article].a.get_text()\n",
    "                    return(art_author)\n",
    "                except:\n",
    "                    return(None)\n",
    "            def date_error():\n",
    "                try:\n",
    "                    art_date= articles[article].find(\"div\", attrs= {\"class\" : \"date is-display-inline hide-on-desktop\"}).get_text()\n",
    "                    return(art_date)\n",
    "\n",
    "                except:\n",
    "                    try:\n",
    "                        art_date= articles[article].find(\"div\", attrs= {\"class\" : \"date is-display-inline\"}).get_text()\n",
    "                        return(art_date)\n",
    "\n",
    "                    except:\n",
    "                        return(None)\n",
    "\n",
    "            with open(filename, \"a\", encoding= \"utf-8\") as news:\n",
    "                news.write(\"   \" +title + \"\\n   Cita: \" + str(quote_error()) + \"\\n   Autor(a): \" + str(author_error()) + \n",
    "                           \"\\n   Fecha: \" + str(date_error()) + \"\\n   Fuente: \" + link +\"\\n\\n\\n\")\n",
    "\n",
    "    \"Lista de noticias anexada al documento\"\n",
    "#getnews()"
   ]
  },
  {
   "cell_type": "code",
   "execution_count": 7,
   "metadata": {},
   "outputs": [],
   "source": [
    "def run():\n",
    "    statcode()\n",
    "    create_doc()\n",
    "    getindex()\n",
    "    getnews()\n"
   ]
  },
  {
   "cell_type": "code",
   "execution_count": 8,
   "metadata": {},
   "outputs": [
    {
     "name": "stdout",
     "output_type": "stream",
     "text": [
      "200\n",
      "Pagina funcionando con normalidad\n",
      "Documento creado\n",
      "Indice de categorias creado\n",
      "Resumen terminado\n"
     ]
    }
   ],
   "source": [
    "if __name__ == \"__main__\":\n",
    "    run()\n",
    "    print(\"Resumen terminado\")"
   ]
  }
 ],
 "metadata": {
  "kernelspec": {
   "display_name": "Python 3.8.10 64-bit",
   "language": "python",
   "name": "python3"
  },
  "language_info": {
   "codemirror_mode": {
    "name": "ipython",
    "version": 3
   },
   "file_extension": ".py",
   "mimetype": "text/x-python",
   "name": "python",
   "nbconvert_exporter": "python",
   "pygments_lexer": "ipython3",
   "version": "3.8.10"
  },
  "orig_nbformat": 4,
  "vscode": {
   "interpreter": {
    "hash": "916dbcbb3f70747c44a77c7bcd40155683ae19c65e1c03b4aa3499c5328201f1"
   }
  }
 },
 "nbformat": 4,
 "nbformat_minor": 2
}
